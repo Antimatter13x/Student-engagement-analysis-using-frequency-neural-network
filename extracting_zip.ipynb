{
  "nbformat": 4,
  "nbformat_minor": 0,
  "metadata": {
    "colab": {
      "name": "extracting_zip.ipynb",
      "provenance": []
    },
    "kernelspec": {
      "name": "python3",
      "display_name": "Python 3"
    },
    "language_info": {
      "name": "python"
    }
  },
  "cells": [
    {
      "cell_type": "code",
      "metadata": {
        "colab": {
          "base_uri": "https://localhost:8080/"
        },
        "id": "qKRC6SiXdtpd",
        "outputId": "cdefec28-528b-4ff1-815d-fb33d9b59a8e"
      },
      "source": [
        "from google.colab import drive\n",
        "drive.mount('/content/drive', force_remount=True)"
      ],
      "execution_count": null,
      "outputs": [
        {
          "output_type": "stream",
          "name": "stdout",
          "text": [
            "Mounted at /content/drive\n"
          ]
        }
      ]
    },
    {
      "cell_type": "code",
      "metadata": {
        "colab": {
          "base_uri": "https://localhost:8080/"
        },
        "id": "o8UUYc1fkTwL",
        "outputId": "2ff0814a-bac1-4642-b176-a59380637bf4"
      },
      "source": [
        "from google.colab import drive\n",
        "drive.mount('/content/drive')"
      ],
      "execution_count": null,
      "outputs": [
        {
          "output_type": "stream",
          "name": "stdout",
          "text": [
            "Mounted at /content/drive\n"
          ]
        }
      ]
    },
    {
      "cell_type": "code",
      "metadata": {
        "id": "BDzmJXlxdzA-"
      },
      "source": [
        "!unzip \"/content/drive/MyDrive/frames_zip/confusion_z.zip\" -d \"/content/drive/MyDrive/colab_data/All/\""
      ],
      "execution_count": null,
      "outputs": []
    },
    {
      "cell_type": "code",
      "metadata": {
        "id": "_4VMZEbVd_j3"
      },
      "source": [
        "!unzip \"/content/drive/MyDrive/frames_zip/Frustration_z.zip\" -d \"/content/drive/MyDrive/colab_data/All/\""
      ],
      "execution_count": null,
      "outputs": []
    },
    {
      "cell_type": "code",
      "metadata": {
        "id": "Txs5_f79eEuX"
      },
      "source": [
        "!unzip \"/content/drive/MyDrive/frames_zip/Engagement_z.zip\" -d \"/content/drive/MyDrive/colab_data/All/\""
      ],
      "execution_count": null,
      "outputs": []
    },
    {
      "cell_type": "code",
      "metadata": {
        "id": "qfvTMAzmjt2I"
      },
      "source": [
        "!unzip \"/content/drive/MyDrive/frames_zip/Boredom_z.zip\" -d \"/content/drive/MyDrive/colab_data/All/\""
      ],
      "execution_count": null,
      "outputs": []
    }
  ]
}